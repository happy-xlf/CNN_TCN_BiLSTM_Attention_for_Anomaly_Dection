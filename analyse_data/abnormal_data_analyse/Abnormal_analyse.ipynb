{
 "cells": [
  {
   "cell_type": "code",
   "execution_count": 1,
   "id": "9760e93b",
   "metadata": {},
   "outputs": [],
   "source": [
    "import pandas as pd\n",
    "import numpy as np\n",
    "from sklearn import preprocessing\n",
    "import glob\n",
    "import torch\n",
    "from torch import nn\n",
    "import torch.nn.functional as F\n",
    "import  torch.optim as optim\n",
    "from    matplotlib import pyplot as plt\n",
    "\n",
    "device = torch.device(\"cuda\" if torch.cuda.is_available() else \"cpu\")\n",
    "plt.rc('font',family='Times New Roman', size=16)"
   ]
  },
  {
   "cell_type": "code",
   "execution_count": 2,
   "id": "151215de",
   "metadata": {},
   "outputs": [
    {
     "data": {
      "text/plain": [
       "device(type='cuda')"
      ]
     },
     "execution_count": 2,
     "metadata": {},
     "output_type": "execute_result"
    }
   ],
   "source": [
    "device"
   ]
  },
  {
   "cell_type": "code",
   "execution_count": 3,
   "id": "f6637b04",
   "metadata": {},
   "outputs": [],
   "source": [
    "def convert_2d(df_dup):\n",
    "    data_frame = pd.DataFrame()\n",
    "    for i in range(0, df_dup.shape[0]-59):\n",
    "        is_anomaly = False\n",
    "        mylist = []\n",
    "        for j in range(i, i+60):\n",
    "            mylist.append(df_dup['value'].iat[j])\n",
    "            if df_dup['is_anomaly'].iat[j] == 1:\n",
    "                is_anomaly = True\n",
    "        if is_anomaly:\n",
    "            mylist.append(1)\n",
    "        else:\n",
    "            mylist.append(0)\n",
    "        np_Array = np.array(mylist)\n",
    "        mylist = np_Array.T\n",
    "        data_frame = data_frame.append(pd.Series(mylist), ignore_index=True)\n",
    "    return data_frame"
   ]
  },
  {
   "cell_type": "code",
   "execution_count": 4,
   "id": "e95fa1c0",
   "metadata": {},
   "outputs": [],
   "source": [
    "def get_data():\n",
    "    dataset_conc=[]\n",
    "    path=r'../../Dataset'\n",
    "    all_files=glob.glob(path+\"/*.csv\")\n",
    "    for filename in all_files:\n",
    "        df=pd.read_csv(filename,index_col=None,header=0)\n",
    "        #将数据中value为0的替换成NaN\n",
    "        df=df.replace(0,np.nan)\n",
    "        #处理value那层数据，将0去除掉\n",
    "        df=df.dropna(axis=0, how='any',subset=['value'])\n",
    "        df.value = preprocessing.normalize([df.value]).T\n",
    "        dataset_conc.append(convert_2d(df))\n",
    "    frame=pd.concat(dataset_conc,axis=0,ignore_index=True)\n",
    "    y = frame.iloc[:, 60]\n",
    "    X = frame.iloc[:, 0:60]\n",
    "    X_train = X[:int(X.shape[0] * 0.7)]\n",
    "    X_test = X[int(X.shape[0] * 0.7):]\n",
    "    y_train = y[:int(X.shape[0] * 0.7)]\n",
    "    y_test = y[int(X.shape[0] * 0.7):]\n",
    "\n",
    "\n",
    "    X_train = X_train.to_numpy()\n",
    "    nrows, ncols = X_train.shape\n",
    "    X_train = X_train.reshape(nrows, ncols, 1)\n",
    "\n",
    "    X_test = X_test.to_numpy()\n",
    "    nrows, ncols = X_test.shape\n",
    "    X_test = X_test.reshape(nrows, ncols, 1)\n",
    "\n",
    "    y_test = y_test.to_numpy()\n",
    "    # print(\"X_train:\",X_train.shape)\n",
    "    #[62107,60,1]\n",
    "    # print(\"y_train:\",y_train.shape)\n",
    "    #[62107,]\n",
    "    return X_train,y_train,X_test,y_test"
   ]
  },
  {
   "cell_type": "code",
   "execution_count": 5,
   "id": "61b78944",
   "metadata": {},
   "outputs": [],
   "source": [
    "X_train,y_train,X_test,y_test=get_data()"
   ]
  },
  {
   "cell_type": "code",
   "execution_count": 6,
   "id": "6ae5e377",
   "metadata": {},
   "outputs": [],
   "source": [
    "X_test = torch.tensor(X_test).permute(0, 2, 1).to(torch.float32)\n",
    "y_test=torch.tensor(y_test)"
   ]
  },
  {
   "cell_type": "code",
   "execution_count": 20,
   "id": "69887d3b",
   "metadata": {},
   "outputs": [
    {
     "data": {
      "text/plain": [
       "array([[[0.02393263],\n",
       "        [0.04493904],\n",
       "        [0.05900332],\n",
       "        ...,\n",
       "        [0.0085436 ],\n",
       "        [0.01431762],\n",
       "        [0.01787009]],\n",
       "\n",
       "       [[0.04493904],\n",
       "        [0.05900332],\n",
       "        [0.0459983 ],\n",
       "        ...,\n",
       "        [0.01431762],\n",
       "        [0.01787009],\n",
       "        [0.01376995]],\n",
       "\n",
       "       [[0.05900332],\n",
       "        [0.0459983 ],\n",
       "        [0.02360224],\n",
       "        ...,\n",
       "        [0.01787009],\n",
       "        [0.01376995],\n",
       "        [0.00622143]],\n",
       "\n",
       "       ...,\n",
       "\n",
       "       [[0.01675279],\n",
       "        [0.01928905],\n",
       "        [0.01928905],\n",
       "        ...,\n",
       "        [0.02671505],\n",
       "        [0.02573092],\n",
       "        [0.02598961]],\n",
       "\n",
       "       [[0.01928905],\n",
       "        [0.01928905],\n",
       "        [0.01689901],\n",
       "        ...,\n",
       "        [0.02573092],\n",
       "        [0.02598961],\n",
       "        [0.02525853]],\n",
       "\n",
       "       [[0.01928905],\n",
       "        [0.01689901],\n",
       "        [0.01999482],\n",
       "        ...,\n",
       "        [0.02598961],\n",
       "        [0.02525853],\n",
       "        [0.02514606]]])"
      ]
     },
     "execution_count": 20,
     "metadata": {},
     "output_type": "execute_result"
    }
   ],
   "source": [
    "X_train"
   ]
  },
  {
   "cell_type": "code",
   "execution_count": 7,
   "id": "4a513c49",
   "metadata": {},
   "outputs": [],
   "source": [
    "import torch.utils.data as Data\n",
    "from numpy import *"
   ]
  },
  {
   "cell_type": "code",
   "execution_count": 8,
   "id": "b786857e",
   "metadata": {},
   "outputs": [],
   "source": [
    "def test(model,x_test,y_test,flag):\n",
    "    model.eval()\n",
    "    torch_dataset=Data.TensorDataset(x_test,y_test)\n",
    "    loader = Data.DataLoader(\n",
    "        dataset=torch_dataset,  # 数据，封装进Data.TensorDataset()类的数据\n",
    "        batch_size=512,  # 每块的大小\n",
    "        num_workers=0,  # 多进程（multiprocess）来读数据\n",
    "    )\n",
    "\n",
    "    acc = 0.0\n",
    "    count = 0\n",
    "    ans_labels=[]\n",
    "    ans_pre=[]\n",
    "    for index, data in enumerate(loader):\n",
    "        inputs, labels = data  # 5,3,400,600  5,10\n",
    "        count += len(labels)\n",
    "        inputs=inputs.to(device)\n",
    "        labels=labels.to(device)\n",
    "        outputs = model(inputs)\n",
    "        _, predict = torch.max(outputs, 1)\n",
    "        acc += (labels == predict).sum().item()\n",
    "        ans_labels+=labels.cpu().numpy().tolist()\n",
    "        ans_pre+=predict.cpu().numpy().tolist()\n",
    "    #evaluate performance\n",
    "    from sklearn.metrics import confusion_matrix, accuracy_score, precision_score, recall_score, f1_score\n",
    "    if flag==True:\n",
    "      Confusion_Matrix = confusion_matrix(ans_labels, ans_pre)\n",
    "      Accuracy = accuracy_score(ans_labels, ans_pre)\n",
    "      precision = precision_score(ans_labels, ans_pre, average='binary')\n",
    "      recall = recall_score(ans_labels, ans_pre, average='binary')\n",
    "      F1_Score = f1_score(ans_labels, ans_pre, average='binary')\n",
    "      print(\"Confusion_Matrix\")\n",
    "      print(Confusion_Matrix)\n",
    "      print(\"Accuracy \", Accuracy)\n",
    "      print(\"Precision \", precision)\n",
    "      print(\"recall \", recall)\n",
    "      print(\"f1_score \", F1_Score)\n",
    "    return round(acc/count,4)"
   ]
  },
  {
   "cell_type": "code",
   "execution_count": 9,
   "id": "afb12b04",
   "metadata": {},
   "outputs": [],
   "source": [
    "# 定义实现因果卷积的类\n",
    "from torch.nn.utils import weight_norm\n",
    "class Chomp1d(nn.Module):\n",
    "    def __init__(self, chomp_size):\n",
    "        super(Chomp1d, self).__init__()\n",
    "        self.chomp_size = chomp_size\n",
    "\n",
    "    def forward(self, x):\n",
    "        return x[:, :, :-self.chomp_size].contiguous()\n",
    "\n",
    "# 定义了一个残差模块\n",
    "class TemporalBlock(nn.Module):\n",
    "    def __init__(self, n_inputs, n_outputs, kernel_size, stride, dilation, padding, dropout=0.2):\n",
    "        super(TemporalBlock, self).__init__()\n",
    "        # n_inputs:输入通道数\n",
    "        # n_outputs:输出通道数\n",
    "        # stride：步长\n",
    "        # padding:填充长度\n",
    "        # dilation：扩张率\n",
    "        # 定义第一个空洞卷积层\n",
    "        self.conv1 = weight_norm(nn.Conv1d(n_inputs, n_outputs, kernel_size,\n",
    "                                           stride=stride, padding=padding, dilation=dilation))\n",
    "        # 根据第一个卷积层的输出与padding大小实现因果卷积\n",
    "        self.chomp1 = Chomp1d(padding)\n",
    "        # 添加激活函数与dropout正则化方法完成第一个卷积\n",
    "        self.relu1 = nn.ReLU()\n",
    "        self.dropout1 = nn.Dropout(dropout)\n",
    "\n",
    "        # 堆叠同样结构的第二个卷积层\n",
    "        self.conv2 = weight_norm(nn.Conv1d(n_outputs, n_outputs, kernel_size,\n",
    "                                           stride=stride, padding=padding, dilation=dilation))\n",
    "        self.chomp2 = Chomp1d(padding)\n",
    "        self.relu2 = nn.ReLU()\n",
    "        self.dropout2 = nn.Dropout(dropout)\n",
    "\n",
    "        # 将卷积模块的所有组建通过Sequential方法依次堆叠在一起\n",
    "        self.net = nn.Sequential(self.conv1, self.chomp1, self.relu1, self.dropout1,\n",
    "                                 self.conv2, self.chomp2, self.relu2, self.dropout2)\n",
    "\n",
    "        # 如果输出纬度和输入维度不一致，则必须对输出进行1X1卷积\n",
    "        # 如果通道数不一样，那么需要对输入x做一个逐元素的一维卷积以使得它的纬度与前面两个卷积相等。\n",
    "        self.downsample = nn.Conv1d(n_inputs, n_outputs, 1) if n_inputs != n_outputs else None\n",
    "        self.relu = nn.ReLU()\n",
    "        # 不同激活函数的尝试\n",
    "        # self.sigmod = nn.Softmax()\n",
    "        # self.tanh = nn.Tanh()\n",
    "        # self.softPlus = nn.Softplus()\n",
    "        # self.leaky = nn.LeakyReLU()\n",
    "        self.init_weights()\n",
    "\n",
    "    # 初始化为从均值为0，标准差为0.01的正态分布中采样的随机值\n",
    "    def init_weights(self):\n",
    "        self.conv1.weight.data.normal_(0, 0.01)\n",
    "        self.conv2.weight.data.normal_(0, 0.01)\n",
    "        if self.downsample is not None:\n",
    "            self.downsample.weight.data.normal_(0, 0.01)\n",
    "\n",
    "    # 结合卷积与输入的恒等映射（或输入的逐元素卷积），并投入ReLU 激活函数完成残差模块\n",
    "    def forward(self, x):\n",
    "        out = self.net(x)\n",
    "        res = x if self.downsample is None else self.downsample(x)\n",
    "        return self.relu(out + res)\n",
    "\n",
    "\n",
    "# 时间卷积网络\n",
    "class TemporalConvNet(nn.Module):\n",
    "    def __init__(self, num_inputs, num_channels, kernel_size=5, dropout=0.5):\n",
    "        super(TemporalConvNet, self).__init__()\n",
    "        # num_input:输入特征数，默认为1\n",
    "        # num_levels:网络层数，每一层是一个残差块\n",
    "        # num_channels:储存了所有层级的输出通道数\n",
    "        layers = []\n",
    "        # num_channels为各层卷积运算的输出通道数或卷积核数量\n",
    "        num_levels = len(num_channels)\n",
    "        # 空洞卷积的扩张系数若随着网络层级的增加而成指数级增加，则可以增大感受野并不丢弃任何输入序列的元素\n",
    "        # dilation_size根据层级数成指数增加，并从num_channels中抽取每一个残差模块的输入通道数与输出通道数\n",
    "        for i in range(num_levels):\n",
    "            dilation_size = 2 ** i\n",
    "            in_channels = num_inputs if i == 0 else num_channels[i-1]\n",
    "            out_channels = num_channels[i]\n",
    "            layers += [TemporalBlock(in_channels, out_channels, kernel_size, stride=1, dilation=dilation_size,\n",
    "                                     padding=(kernel_size-1) * dilation_size, dropout=dropout)]\n",
    "        # 将所有残差模块堆叠起来组成一个深度卷积网络\n",
    "        self.network = nn.Sequential(*layers)\n",
    "\n",
    "    def forward(self, x):\n",
    "        x=self.network(x)\n",
    "        #print('tcn_shape:',x.shape)\n",
    "        return x"
   ]
  },
  {
   "cell_type": "code",
   "execution_count": 10,
   "id": "b09abaa3",
   "metadata": {},
   "outputs": [],
   "source": [
    "class Net2(nn.Module):\n",
    "    def __init__(self):\n",
    "        super(Net2, self).__init__()\n",
    "        self.conv=nn.Sequential(\n",
    "            #[512,1,60]\n",
    "            nn.Conv1d(in_channels=1,out_channels=64,kernel_size=3,stride=1,padding='same'),\n",
    "            nn.ReLU(),\n",
    "            nn.MaxPool1d(2,stride=2),\n",
    "            #[512,32,30]\n",
    "            nn.Conv1d(in_channels=64,out_channels=64,kernel_size=3,stride=1,padding='same'),\n",
    "            nn.ReLU(),\n",
    "            nn.MaxPool1d(2, stride=2),\n",
    "            #[512,64,15]\n",
    "            TemporalConvNet(64,[64,64,64]),\n",
    "            nn.ReLU(),\n",
    "            #[512,64,15]\n",
    "        )\n",
    "        self.bigru=nn.GRU(input_size=960, hidden_size=64, num_layers=1,batch_first=True,bidirectional=True)\n",
    "        self.fc=nn.Sequential(\n",
    "            nn.ReLU(),\n",
    "            nn.Dropout(0.5),\n",
    "            #[512,128]\n",
    "            nn.Linear(128, 32),\n",
    "            nn.ReLU(),\n",
    "            nn.Dropout(0.5),\n",
    "            nn.Linear(32,2),\n",
    "            #[512,2]\n",
    "            nn.Softmax(dim=1)\n",
    "        )\n",
    "    def attention_net(self, lstm_output, final_state):\n",
    "        batch_size = len(lstm_output)\n",
    "        hidden = final_state.view(batch_size, -1,\n",
    "                                  1)  # hidden : [batch_size, n_hidden * num_directions(=2), n_layer(=1)]\n",
    "        attn_weights = torch.bmm(lstm_output, hidden).squeeze(2)  # attn_weights : [batch_size, n_step]\n",
    "        soft_attn_weights = F.softmax(attn_weights, 1)\n",
    "\n",
    "        # context : [batch_size, n_hidden * num_directions(=2)]\n",
    "        context = torch.bmm(lstm_output.transpose(1, 2), soft_attn_weights.unsqueeze(2)).squeeze(2)\n",
    "        return context, soft_attn_weights\n",
    "\n",
    "    def forward(self,x):\n",
    "        out=self.conv(x)\n",
    "        out=out.reshape(-1,1,15*64)\n",
    "        #[512,1,960]\n",
    "        out,final_hidden_state=self.bigru(out)\n",
    "        attn_out,attention=self.attention_net(out,final_hidden_state)\n",
    "        #[512,128]\n",
    "        out=self.fc(attn_out)\n",
    "        #[512,2]\n",
    "        return out"
   ]
  },
  {
   "cell_type": "code",
   "execution_count": 11,
   "id": "a951037d",
   "metadata": {},
   "outputs": [],
   "source": [
    "model=Net2()\n",
    "model.load_state_dict(torch.load('net_bigru_attention_params.pth'))\n",
    "model=model.to(device)"
   ]
  },
  {
   "cell_type": "code",
   "execution_count": 12,
   "id": "1482ac0b",
   "metadata": {},
   "outputs": [
    {
     "data": {
      "text/plain": [
       "tensor([[[0.0169, 0.0200, 0.0230,  ..., 0.0253, 0.0251, 0.0310]],\n",
       "\n",
       "        [[0.0200, 0.0230, 0.0204,  ..., 0.0251, 0.0310, 0.0320]],\n",
       "\n",
       "        [[0.0230, 0.0204, 0.0220,  ..., 0.0310, 0.0320, 0.0255]],\n",
       "\n",
       "        ...,\n",
       "\n",
       "        [[0.0156, 0.0135, 0.0143,  ..., 0.0096, 0.0103, 0.0133]],\n",
       "\n",
       "        [[0.0135, 0.0143, 0.0075,  ..., 0.0103, 0.0133, 0.0151]],\n",
       "\n",
       "        [[0.0143, 0.0075, 0.0063,  ..., 0.0133, 0.0151, 0.0203]]])"
      ]
     },
     "execution_count": 12,
     "metadata": {},
     "output_type": "execute_result"
    }
   ],
   "source": [
    "X_test"
   ]
  },
  {
   "cell_type": "code",
   "execution_count": 13,
   "id": "5cb939ba",
   "metadata": {},
   "outputs": [
    {
     "data": {
      "text/plain": [
       "tensor([0., 0., 0.,  ..., 0., 0., 0.], dtype=torch.float64)"
      ]
     },
     "execution_count": 13,
     "metadata": {},
     "output_type": "execute_result"
    }
   ],
   "source": [
    "y_test"
   ]
  },
  {
   "cell_type": "code",
   "execution_count": 14,
   "id": "e80431e1",
   "metadata": {},
   "outputs": [],
   "source": [
    "\n",
    "torch_dataset=Data.TensorDataset(X_test,y_test)\n",
    "loader = Data.DataLoader(\n",
    "    dataset=torch_dataset,  # 数据，封装进Data.TensorDataset()类的数据\n",
    "    batch_size=512,  # 每块的大小\n",
    "    num_workers=0,  # 多进程（multiprocess）来读数据\n",
    ")"
   ]
  },
  {
   "cell_type": "code",
   "execution_count": 29,
   "id": "d9fcfd11",
   "metadata": {},
   "outputs": [
    {
     "name": "stdout",
     "output_type": "stream",
     "text": [
      "25786\n",
      "0.9687\n",
      "Confusion_Matrix\n",
      "[[23786   200]\n",
      " [  632  2000]]\n",
      "Accuracy  0.9687429558945074\n",
      "Precision  0.9090909090909091\n",
      "recall  0.7598784194528876\n",
      "f1_score  0.8278145695364237\n"
     ]
    }
   ],
   "source": [
    "acc=0\n",
    "count=0\n",
    "ans_labels=[]\n",
    "ans_pre=[]\n",
    "for index, data in enumerate(loader):\n",
    "    inputs, labels = data  # 5,3,400,600  5,10\n",
    "    count += len(labels)\n",
    "    inputs=inputs.to(device)\n",
    "    labels=labels.to(device)\n",
    "    outputs = model(inputs)\n",
    "    _, predict = torch.max(outputs, 1)\n",
    "    acc += (labels == predict).sum().item()\n",
    "    ans_labels+=labels.cpu().numpy().tolist()\n",
    "    ans_pre+=predict.cpu().numpy().tolist()\n",
    "\n",
    "print(acc)\n",
    "print(round(acc/count,4))\n",
    "#evaluate performance\n",
    "from sklearn.metrics import confusion_matrix, accuracy_score, precision_score, recall_score, f1_score\n",
    "Confusion_Matrix = confusion_matrix(ans_labels, ans_pre)\n",
    "Accuracy = accuracy_score(ans_labels, ans_pre)\n",
    "precision = precision_score(ans_labels, ans_pre, average='binary')\n",
    "recall = recall_score(ans_labels, ans_pre, average='binary')\n",
    "F1_Score = f1_score(ans_labels, ans_pre, average='binary')\n",
    "print(\"Confusion_Matrix\")\n",
    "print(Confusion_Matrix)\n",
    "print(\"Accuracy \", Accuracy)\n",
    "print(\"Precision \", precision)\n",
    "print(\"recall \", recall)\n",
    "print(\"f1_score \", F1_Score)"
   ]
  },
  {
   "cell_type": "code",
   "execution_count": 28,
   "id": "cb7e6296",
   "metadata": {},
   "outputs": [
    {
     "data": {
      "text/plain": [
       "26618"
      ]
     },
     "execution_count": 28,
     "metadata": {},
     "output_type": "execute_result"
    }
   ],
   "source": [
    "len(ans_pre)"
   ]
  },
  {
   "cell_type": "code",
   "execution_count": 17,
   "id": "ebff8afa",
   "metadata": {},
   "outputs": [
    {
     "data": {
      "image/png": "[encoded data removed]",
      "text/plain": [
       "<Figure size 432x288 with 1 Axes>"
      ]
     },
     "metadata": {
      "needs_background": "light"
     },
     "output_type": "display_data"
    }
   ],
   "source": [
    "from matplotlib import pyplot as plt\n",
    "plt.xlabel(\"Nums\")\n",
    "plt.ylabel(\"Value\")\n",
    "epoch_list=list(range(170,180))\n",
    "plt.plot(epoch_list,ans_pre[170:180],color='green',label='ans_pre')\n",
    "plt.legend()\n",
    "plt.show()"
   ]
  },
  {
   "cell_type": "code",
   "execution_count": 45,
   "id": "6bad8d4d",
   "metadata": {},
   "outputs": [
    {
     "name": "stdout",
     "output_type": "stream",
     "text": [
      "{'0': 117, '1': 113, '2': 87, '3': 102, '4': 99, '5': 114}\n"
     ]
    },
    {
     "data": {
      "text/plain": [
       "(10, 50, 572)"
      ]
     },
     "execution_count": 45,
     "metadata": {},
     "output_type": "execute_result"
    }
   ],
   "source": [
    "import math\n",
    "k=math.ceil(len(ans_pre)/10)\n",
    "count_mp={'0':0,'1':0,'2':0,'3':0,'4':0,'5':0}\n",
    "w=0\n",
    "point=0\n",
    "context=0\n",
    "collective=0\n",
    "for i in range(k):\n",
    "    cnt=0\n",
    "    t=i%6\n",
    "    for k in range(w,min(w+10,len(ans_pre))):\n",
    "        if ans_pre[k]==0 and ans_labels[k]==1:\n",
    "            cnt=cnt+1\n",
    "#             print(ans_labels[k-1],ans_labels[k],ans_labels[k+1])\n",
    "            if (t==0 or t==5) and k-1>0 and k+1<len(ans_pre) and (ans_labels[k-1]==0 or ans_labels[k+1])==0:\n",
    "                point=point+1\n",
    "            elif ans_labels[k-1]==0 or ans_labels[k+1]==0:\n",
    "                context=context+1\n",
    "            elif ans_labels[k-1]==1 or ans_labels[k+1]==1:\n",
    "                collective=collective+1\n",
    "            \n",
    "#     print(t,cnt)\n",
    "    w=w+10\n",
    "    count_mp[str(t)]=count_mp.get(str(t))+cnt\n",
    "print(count_mp)\n",
    "point,context,collective"
   ]
  },
  {
   "cell_type": "code",
   "execution_count": null,
   "id": "c9d14ddb",
   "metadata": {},
   "outputs": [],
   "source": []
  }
 ],
 "metadata": {
  "kernelspec": {
   "display_name": "Python [conda env:pytorch]",
   "language": "python",
   "name": "conda-env-pytorch-py"
  },
  "language_info": {
   "codemirror_mode": {
    "name": "ipython",
    "version": 3
   },
   "file_extension": ".py",
   "mimetype": "text/x-python",
   "name": "python",
   "nbconvert_exporter": "python",
   "pygments_lexer": "ipython3",
   "version": "3.6.13"
  },
  "pycharm": {
   "stem_cell": {
    "cell_type": "raw",
    "source": [],
    "metadata": {
     "collapsed": false
    }
   }
  }
 },
 "nbformat": 4,
 "nbformat_minor": 5
}